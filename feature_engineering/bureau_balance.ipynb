{
 "cells": [
  {
   "cell_type": "markdown",
   "metadata": {
    "application/vnd.databricks.v1+cell": {
     "cellMetadata": {},
     "inputWidgets": {},
     "nuid": "b7826ca1-d863-40f1-95d4-e01e324ab5ef",
     "showTitle": false,
     "tableResultSettingsMap": {},
     "title": ""
    }
   },
   "source": [
    "## Lendo os dados"
   ]
  },
  {
   "cell_type": "code",
   "execution_count": 0,
   "metadata": {
    "application/vnd.databricks.v1+cell": {
     "cellMetadata": {
      "byteLimit": 2048000,
      "rowLimit": 10000
     },
     "inputWidgets": {},
     "nuid": "d7c436a1-f888-46c9-8a6f-d226e6f7e33c",
     "showTitle": false,
     "tableResultSettingsMap": {},
     "title": ""
    }
   },
   "outputs": [
    {
     "output_type": "stream",
     "name": "stdout",
     "output_type": "stream",
     "text": [
      "+------------+--------------+------+\n|SK_ID_BUREAU|MONTHS_BALANCE|STATUS|\n+------------+--------------+------+\n|     5715448|             0|     C|\n|     5715448|            -1|     C|\n|     5715448|            -2|     C|\n|     5715448|            -3|     C|\n|     5715448|            -4|     C|\n|     5715448|            -5|     C|\n|     5715448|            -6|     C|\n|     5715448|            -7|     C|\n|     5715448|            -8|     C|\n|     5715448|            -9|     0|\n|     5715448|           -10|     0|\n|     5715448|           -11|     X|\n|     5715448|           -12|     X|\n|     5715448|           -13|     X|\n|     5715448|           -14|     0|\n|     5715448|           -15|     0|\n|     5715448|           -16|     0|\n|     5715448|           -17|     0|\n|     5715448|           -18|     0|\n|     5715448|           -19|     0|\n+------------+--------------+------+\nonly showing top 20 rows\n\n"
     ]
    }
   ],
   "source": [
    "# Caminho do arquivo\n",
    "file_path = \"/FileStore/tables/podbank/bureau_balance.csv\"\n",
    "\n",
    "df = spark.read.format(\"csv\").option(\"header\", \"true\").option(\"inferSchema\", \"true\").load(file_path)\n",
    "\n",
    "df.show()\n"
   ]
  },
  {
   "cell_type": "markdown",
   "metadata": {
    "application/vnd.databricks.v1+cell": {
     "cellMetadata": {},
     "inputWidgets": {},
     "nuid": "74d93ad0-4b86-45ab-9fc7-df4969c63659",
     "showTitle": false,
     "tableResultSettingsMap": {},
     "title": ""
    }
   },
   "source": [
    "## Criando variáveis de flag temporal"
   ]
  },
  {
   "cell_type": "code",
   "execution_count": 0,
   "metadata": {
    "application/vnd.databricks.v1+cell": {
     "cellMetadata": {
      "byteLimit": 2048000,
      "rowLimit": 10000
     },
     "inputWidgets": {},
     "nuid": "3c6142e5-0d95-41ef-8368-607ee1b554ba",
     "showTitle": false,
     "tableResultSettingsMap": {},
     "title": ""
    }
   },
   "outputs": [
    {
     "output_type": "stream",
     "name": "stdout",
     "output_type": "stream",
     "text": [
      "+------------+--------------+------+---+---+----+----+\n|SK_ID_BUREAU|MONTHS_BALANCE|STATUS|U3M|U6M|U12M|U24M|\n+------------+--------------+------+---+---+----+----+\n|     5001709|             0|     C|  1|  1|   1|   1|\n|     5001709|            -5|     C|  0|  1|   1|   1|\n|     5001709|            -1|     C|  1|  1|   1|   1|\n|     5001709|            -2|     C|  1|  1|   1|   1|\n|     5001709|            -3|     C|  1|  1|   1|   1|\n+------------+--------------+------+---+---+----+----+\nonly showing top 5 rows\n\n"
     ]
    }
   ],
   "source": [
    "df.createOrReplaceTempView(\"dados\")\n",
    "\n",
    "df_temp_01 = spark.sql(\"\"\"\n",
    "SELECT\n",
    "    *,\n",
    "      CASE\n",
    "        WHEN MONTHS_BALANCE >= -3 THEN 1\n",
    "        ELSE 0\n",
    "    END AS U3M,\n",
    "    CASE\n",
    "        WHEN MONTHS_BALANCE >= -6 THEN 1\n",
    "        ELSE 0\n",
    "    END AS U6M,\n",
    "    CASE\n",
    "        WHEN MONTHS_BALANCE >= -12 THEN 1\n",
    "        ELSE 0\n",
    "    END AS U12M,\n",
    "    CASE\n",
    "        WHEN MONTHS_BALANCE >= -24 THEN 1\n",
    "        ELSE 0\n",
    "    END AS U24M\n",
    "FROM dados\n",
    "ORDER BY `SK_ID_BUREAU`;\n",
    "\"\"\")\n",
    "df_temp_01.createOrReplaceTempView(\"df_temp_01\")\n",
    "df_temp_01.show(5)"
   ]
  },
  {
   "cell_type": "code",
   "execution_count": 0,
   "metadata": {
    "application/vnd.databricks.v1+cell": {
     "cellMetadata": {
      "byteLimit": 2048000,
      "rowLimit": 10000
     },
     "inputWidgets": {},
     "nuid": "1e36e41b-fc8e-4773-b614-37225766ee4b",
     "showTitle": false,
     "tableResultSettingsMap": {},
     "title": ""
    }
   },
   "outputs": [
    {
     "output_type": "stream",
     "name": "stdout",
     "output_type": "stream",
     "text": [
      "+--------------+------+\n|distinct_count|STATUS|\n+--------------+------+\n|             1|     5|\n|             1|     1|\n|             1|     0|\n|             1|     4|\n|             1|     3|\n|             1|     2|\n|             1|     C|\n|             1|     X|\n+--------------+------+\n\n"
     ]
    }
   ],
   "source": [
    "df_temp_01.createOrReplaceTempView(\"df_temp_01\")\n",
    "\n",
    "count_status = spark.sql(\"\"\"\n",
    "SELECT COUNT(DISTINCT STATUS) AS distinct_count, STATUS\n",
    "FROM df_temp_01\n",
    "GROUP BY STATUS\n",
    "\"\"\")\n",
    "count_status.show(10)"
   ]
  },
  {
   "cell_type": "code",
   "execution_count": 0,
   "metadata": {
    "application/vnd.databricks.v1+cell": {
     "cellMetadata": {
      "byteLimit": 2048000,
      "rowLimit": 10000
     },
     "inputWidgets": {},
     "nuid": "1369d441-15fe-4795-b214-3285f946ec7d",
     "showTitle": false,
     "tableResultSettingsMap": {},
     "title": ""
    }
   },
   "outputs": [
    {
     "output_type": "stream",
     "name": "stdout",
     "output_type": "stream",
     "text": [
      "+------------+--------------+------+---+---+----+----+--------+--------+--------+--------+--------+--------+--------+\n|SK_ID_BUREAU|MONTHS_BALANCE|STATUS|U3M|U6M|U12M|U24M|STATUS_C|STATUS_3|STATUS_0|STATUS_2|STATUS_X|STATUS_5|STATUS_1|\n+------------+--------------+------+---+---+----+----+--------+--------+--------+--------+--------+--------+--------+\n|     5001709|             0|     C|  1|  1|   1|   1|       1|       0|       0|       0|       0|       0|       0|\n|     5001709|            -5|     C|  0|  1|   1|   1|       1|       0|       0|       0|       0|       0|       0|\n|     5001709|            -1|     C|  1|  1|   1|   1|       1|       0|       0|       0|       0|       0|       0|\n|     5001709|            -2|     C|  1|  1|   1|   1|       1|       0|       0|       0|       0|       0|       0|\n|     5001709|            -3|     C|  1|  1|   1|   1|       1|       0|       0|       0|       0|       0|       0|\n+------------+--------------+------+---+---+----+----+--------+--------+--------+--------+--------+--------+--------+\nonly showing top 5 rows\n\n"
     ]
    }
   ],
   "source": [
    "df_temp_01.createOrReplaceTempView(\"df_temp_01\")\n",
    "\n",
    "df_temp_02 = spark.sql(\"\"\"\n",
    "SELECT\n",
    "    *,\n",
    "      CASE\n",
    "        WHEN STATUS = \"C\" THEN 1\n",
    "        ELSE 0\n",
    "    END AS STATUS_C,\n",
    "    CASE\n",
    "        WHEN STATUS = \"3\" THEN 1\n",
    "        ELSE 0\n",
    "    END AS STATUS_3,\n",
    "    CASE\n",
    "        WHEN STATUS = \"0\" THEN 1\n",
    "        ELSE 0\n",
    "    END AS STATUS_0,\n",
    "    CASE\n",
    "        WHEN STATUS = \"2\" THEN 1\n",
    "        ELSE 0\n",
    "    END AS STATUS_2,\n",
    "    CASE\n",
    "        WHEN STATUS = \"X\" THEN 1\n",
    "        ELSE 0\n",
    "    END AS STATUS_X,\n",
    "    CASE\n",
    "        WHEN STATUS = \"5\" THEN 1\n",
    "        ELSE 0\n",
    "    END AS STATUS_5,\n",
    "    CASE\n",
    "        WHEN STATUS = \"1\" THEN 1\n",
    "        ELSE 0\n",
    "    END AS STATUS_1\n",
    "FROM df_temp_01\n",
    "ORDER BY `SK_ID_BUREAU`;\n",
    "\"\"\")\n",
    "df_temp_02.createOrReplaceTempView(\"df_temp_01\")\n",
    "df_temp_02.show(5)"
   ]
  },
  {
   "cell_type": "markdown",
   "metadata": {
    "application/vnd.databricks.v1+cell": {
     "cellMetadata": {},
     "inputWidgets": {},
     "nuid": "b98a039e-efdb-4e4a-93a9-7a4db12e8f4e",
     "showTitle": false,
     "tableResultSettingsMap": {},
     "title": ""
    }
   },
   "source": [
    "## Criando variáveis de primeira camada"
   ]
  },
  {
   "cell_type": "code",
   "execution_count": 0,
   "metadata": {
    "application/vnd.databricks.v1+cell": {
     "cellMetadata": {
      "byteLimit": 2048000,
      "rowLimit": 10000
     },
     "inputWidgets": {},
     "nuid": "416f9d50-4743-4534-b80c-22800be9968f",
     "showTitle": false,
     "tableResultSettingsMap": {},
     "title": ""
    }
   },
   "outputs": [
    {
     "output_type": "stream",
     "name": "stdout",
     "output_type": "stream",
     "text": [
      "Quantidade Total de Variáveis Criadas: 112\nNomes das Variáveis Criadas: ['QT_TT_STATUS_C_U3M_BUREAU_BL', 'QT_MED_STATUS_C_U3M_BUREAU_BL', 'QT_MAX_STATUS_C_U3M_BUREAU_BL', 'QT_MIN_STATUS_C_U3M_BUREAU_BL', 'QT_TT_STATUS_3_U3M_BUREAU_BL', 'QT_MED_STATUS_3_U3M_BUREAU_BL', 'QT_MAX_STATUS_3_U3M_BUREAU_BL', 'QT_MIN_STATUS_3_U3M_BUREAU_BL', 'QT_TT_STATUS_0_U3M_BUREAU_BL', 'QT_MED_STATUS_0_U3M_BUREAU_BL', 'QT_MAX_STATUS_0_U3M_BUREAU_BL', 'QT_MIN_STATUS_0_U3M_BUREAU_BL', 'QT_TT_STATUS_2_U3M_BUREAU_BL', 'QT_MED_STATUS_2_U3M_BUREAU_BL', 'QT_MAX_STATUS_2_U3M_BUREAU_BL', 'QT_MIN_STATUS_2_U3M_BUREAU_BL', 'QT_TT_STATUS_X_U3M_BUREAU_BL', 'QT_MED_STATUS_X_U3M_BUREAU_BL', 'QT_MAX_STATUS_X_U3M_BUREAU_BL', 'QT_MIN_STATUS_X_U3M_BUREAU_BL', 'QT_TT_STATUS_5_U3M_BUREAU_BL', 'QT_MED_STATUS_5_U3M_BUREAU_BL', 'QT_MAX_STATUS_5_U3M_BUREAU_BL', 'QT_MIN_STATUS_5_U3M_BUREAU_BL', 'QT_TT_STATUS_1_U3M_BUREAU_BL', 'QT_MED_STATUS_1_U3M_BUREAU_BL', 'QT_MAX_STATUS_1_U3M_BUREAU_BL', 'QT_MIN_STATUS_1_U3M_BUREAU_BL', 'QT_TT_STATUS_C_U6M_BUREAU_BL', 'QT_MED_STATUS_C_U6M_BUREAU_BL', 'QT_MAX_STATUS_C_U6M_BUREAU_BL', 'QT_MIN_STATUS_C_U6M_BUREAU_BL', 'QT_TT_STATUS_3_U6M_BUREAU_BL', 'QT_MED_STATUS_3_U6M_BUREAU_BL', 'QT_MAX_STATUS_3_U6M_BUREAU_BL', 'QT_MIN_STATUS_3_U6M_BUREAU_BL', 'QT_TT_STATUS_0_U6M_BUREAU_BL', 'QT_MED_STATUS_0_U6M_BUREAU_BL', 'QT_MAX_STATUS_0_U6M_BUREAU_BL', 'QT_MIN_STATUS_0_U6M_BUREAU_BL', 'QT_TT_STATUS_2_U6M_BUREAU_BL', 'QT_MED_STATUS_2_U6M_BUREAU_BL', 'QT_MAX_STATUS_2_U6M_BUREAU_BL', 'QT_MIN_STATUS_2_U6M_BUREAU_BL', 'QT_TT_STATUS_X_U6M_BUREAU_BL', 'QT_MED_STATUS_X_U6M_BUREAU_BL', 'QT_MAX_STATUS_X_U6M_BUREAU_BL', 'QT_MIN_STATUS_X_U6M_BUREAU_BL', 'QT_TT_STATUS_5_U6M_BUREAU_BL', 'QT_MED_STATUS_5_U6M_BUREAU_BL', 'QT_MAX_STATUS_5_U6M_BUREAU_BL', 'QT_MIN_STATUS_5_U6M_BUREAU_BL', 'QT_TT_STATUS_1_U6M_BUREAU_BL', 'QT_MED_STATUS_1_U6M_BUREAU_BL', 'QT_MAX_STATUS_1_U6M_BUREAU_BL', 'QT_MIN_STATUS_1_U6M_BUREAU_BL', 'QT_TT_STATUS_C_U12M_BUREAU_BL', 'QT_MED_STATUS_C_U12M_BUREAU_BL', 'QT_MAX_STATUS_C_U12M_BUREAU_BL', 'QT_MIN_STATUS_C_U12M_BUREAU_BL', 'QT_TT_STATUS_3_U12M_BUREAU_BL', 'QT_MED_STATUS_3_U12M_BUREAU_BL', 'QT_MAX_STATUS_3_U12M_BUREAU_BL', 'QT_MIN_STATUS_3_U12M_BUREAU_BL', 'QT_TT_STATUS_0_U12M_BUREAU_BL', 'QT_MED_STATUS_0_U12M_BUREAU_BL', 'QT_MAX_STATUS_0_U12M_BUREAU_BL', 'QT_MIN_STATUS_0_U12M_BUREAU_BL', 'QT_TT_STATUS_2_U12M_BUREAU_BL', 'QT_MED_STATUS_2_U12M_BUREAU_BL', 'QT_MAX_STATUS_2_U12M_BUREAU_BL', 'QT_MIN_STATUS_2_U12M_BUREAU_BL', 'QT_TT_STATUS_X_U12M_BUREAU_BL', 'QT_MED_STATUS_X_U12M_BUREAU_BL', 'QT_MAX_STATUS_X_U12M_BUREAU_BL', 'QT_MIN_STATUS_X_U12M_BUREAU_BL', 'QT_TT_STATUS_5_U12M_BUREAU_BL', 'QT_MED_STATUS_5_U12M_BUREAU_BL', 'QT_MAX_STATUS_5_U12M_BUREAU_BL', 'QT_MIN_STATUS_5_U12M_BUREAU_BL', 'QT_TT_STATUS_1_U12M_BUREAU_BL', 'QT_MED_STATUS_1_U12M_BUREAU_BL', 'QT_MAX_STATUS_1_U12M_BUREAU_BL', 'QT_MIN_STATUS_1_U12M_BUREAU_BL', 'QT_TT_STATUS_C_U24M_BUREAU_BL', 'QT_MED_STATUS_C_U24M_BUREAU_BL', 'QT_MAX_STATUS_C_U24M_BUREAU_BL', 'QT_MIN_STATUS_C_U24M_BUREAU_BL', 'QT_TT_STATUS_3_U24M_BUREAU_BL', 'QT_MED_STATUS_3_U24M_BUREAU_BL', 'QT_MAX_STATUS_3_U24M_BUREAU_BL', 'QT_MIN_STATUS_3_U24M_BUREAU_BL', 'QT_TT_STATUS_0_U24M_BUREAU_BL', 'QT_MED_STATUS_0_U24M_BUREAU_BL', 'QT_MAX_STATUS_0_U24M_BUREAU_BL', 'QT_MIN_STATUS_0_U24M_BUREAU_BL', 'QT_TT_STATUS_2_U24M_BUREAU_BL', 'QT_MED_STATUS_2_U24M_BUREAU_BL', 'QT_MAX_STATUS_2_U24M_BUREAU_BL', 'QT_MIN_STATUS_2_U24M_BUREAU_BL', 'QT_TT_STATUS_X_U24M_BUREAU_BL', 'QT_MED_STATUS_X_U24M_BUREAU_BL', 'QT_MAX_STATUS_X_U24M_BUREAU_BL', 'QT_MIN_STATUS_X_U24M_BUREAU_BL', 'QT_TT_STATUS_5_U24M_BUREAU_BL', 'QT_MED_STATUS_5_U24M_BUREAU_BL', 'QT_MAX_STATUS_5_U24M_BUREAU_BL', 'QT_MIN_STATUS_5_U24M_BUREAU_BL', 'QT_TT_STATUS_1_U24M_BUREAU_BL', 'QT_MED_STATUS_1_U24M_BUREAU_BL', 'QT_MAX_STATUS_1_U24M_BUREAU_BL', 'QT_MIN_STATUS_1_U24M_BUREAU_BL']\n\n\nQuantidade de linhas do DataFrame: 817395\nQuantidade de colunas do DataFrame: 113\n\n\n+------------+----------------------------+-----------------------------+-----------------------------+-----------------------------+----------------------------+-----------------------------+-----------------------------+-----------------------------+----------------------------+-----------------------------+-----------------------------+-----------------------------+----------------------------+-----------------------------+-----------------------------+-----------------------------+----------------------------+-----------------------------+-----------------------------+-----------------------------+----------------------------+-----------------------------+-----------------------------+-----------------------------+----------------------------+-----------------------------+-----------------------------+-----------------------------+----------------------------+-----------------------------+-----------------------------+-----------------------------+----------------------------+-----------------------------+-----------------------------+-----------------------------+----------------------------+-----------------------------+-----------------------------+-----------------------------+----------------------------+-----------------------------+-----------------------------+-----------------------------+----------------------------+-----------------------------+-----------------------------+-----------------------------+----------------------------+-----------------------------+-----------------------------+-----------------------------+----------------------------+-----------------------------+-----------------------------+-----------------------------+-----------------------------+------------------------------+------------------------------+------------------------------+-----------------------------+------------------------------+------------------------------+------------------------------+-----------------------------+------------------------------+------------------------------+------------------------------+-----------------------------+------------------------------+------------------------------+------------------------------+-----------------------------+------------------------------+------------------------------+------------------------------+-----------------------------+------------------------------+------------------------------+------------------------------+-----------------------------+------------------------------+------------------------------+------------------------------+-----------------------------+------------------------------+------------------------------+------------------------------+-----------------------------+------------------------------+------------------------------+------------------------------+-----------------------------+------------------------------+------------------------------+------------------------------+-----------------------------+------------------------------+------------------------------+------------------------------+-----------------------------+------------------------------+------------------------------+------------------------------+-----------------------------+------------------------------+------------------------------+------------------------------+-----------------------------+------------------------------+------------------------------+------------------------------+\n|SK_ID_BUREAU|QT_TT_STATUS_C_U3M_BUREAU_BL|QT_MED_STATUS_C_U3M_BUREAU_BL|QT_MAX_STATUS_C_U3M_BUREAU_BL|QT_MIN_STATUS_C_U3M_BUREAU_BL|QT_TT_STATUS_3_U3M_BUREAU_BL|QT_MED_STATUS_3_U3M_BUREAU_BL|QT_MAX_STATUS_3_U3M_BUREAU_BL|QT_MIN_STATUS_3_U3M_BUREAU_BL|QT_TT_STATUS_0_U3M_BUREAU_BL|QT_MED_STATUS_0_U3M_BUREAU_BL|QT_MAX_STATUS_0_U3M_BUREAU_BL|QT_MIN_STATUS_0_U3M_BUREAU_BL|QT_TT_STATUS_2_U3M_BUREAU_BL|QT_MED_STATUS_2_U3M_BUREAU_BL|QT_MAX_STATUS_2_U3M_BUREAU_BL|QT_MIN_STATUS_2_U3M_BUREAU_BL|QT_TT_STATUS_X_U3M_BUREAU_BL|QT_MED_STATUS_X_U3M_BUREAU_BL|QT_MAX_STATUS_X_U3M_BUREAU_BL|QT_MIN_STATUS_X_U3M_BUREAU_BL|QT_TT_STATUS_5_U3M_BUREAU_BL|QT_MED_STATUS_5_U3M_BUREAU_BL|QT_MAX_STATUS_5_U3M_BUREAU_BL|QT_MIN_STATUS_5_U3M_BUREAU_BL|QT_TT_STATUS_1_U3M_BUREAU_BL|QT_MED_STATUS_1_U3M_BUREAU_BL|QT_MAX_STATUS_1_U3M_BUREAU_BL|QT_MIN_STATUS_1_U3M_BUREAU_BL|QT_TT_STATUS_C_U6M_BUREAU_BL|QT_MED_STATUS_C_U6M_BUREAU_BL|QT_MAX_STATUS_C_U6M_BUREAU_BL|QT_MIN_STATUS_C_U6M_BUREAU_BL|QT_TT_STATUS_3_U6M_BUREAU_BL|QT_MED_STATUS_3_U6M_BUREAU_BL|QT_MAX_STATUS_3_U6M_BUREAU_BL|QT_MIN_STATUS_3_U6M_BUREAU_BL|QT_TT_STATUS_0_U6M_BUREAU_BL|QT_MED_STATUS_0_U6M_BUREAU_BL|QT_MAX_STATUS_0_U6M_BUREAU_BL|QT_MIN_STATUS_0_U6M_BUREAU_BL|QT_TT_STATUS_2_U6M_BUREAU_BL|QT_MED_STATUS_2_U6M_BUREAU_BL|QT_MAX_STATUS_2_U6M_BUREAU_BL|QT_MIN_STATUS_2_U6M_BUREAU_BL|QT_TT_STATUS_X_U6M_BUREAU_BL|QT_MED_STATUS_X_U6M_BUREAU_BL|QT_MAX_STATUS_X_U6M_BUREAU_BL|QT_MIN_STATUS_X_U6M_BUREAU_BL|QT_TT_STATUS_5_U6M_BUREAU_BL|QT_MED_STATUS_5_U6M_BUREAU_BL|QT_MAX_STATUS_5_U6M_BUREAU_BL|QT_MIN_STATUS_5_U6M_BUREAU_BL|QT_TT_STATUS_1_U6M_BUREAU_BL|QT_MED_STATUS_1_U6M_BUREAU_BL|QT_MAX_STATUS_1_U6M_BUREAU_BL|QT_MIN_STATUS_1_U6M_BUREAU_BL|QT_TT_STATUS_C_U12M_BUREAU_BL|QT_MED_STATUS_C_U12M_BUREAU_BL|QT_MAX_STATUS_C_U12M_BUREAU_BL|QT_MIN_STATUS_C_U12M_BUREAU_BL|QT_TT_STATUS_3_U12M_BUREAU_BL|QT_MED_STATUS_3_U12M_BUREAU_BL|QT_MAX_STATUS_3_U12M_BUREAU_BL|QT_MIN_STATUS_3_U12M_BUREAU_BL|QT_TT_STATUS_0_U12M_BUREAU_BL|QT_MED_STATUS_0_U12M_BUREAU_BL|QT_MAX_STATUS_0_U12M_BUREAU_BL|QT_MIN_STATUS_0_U12M_BUREAU_BL|QT_TT_STATUS_2_U12M_BUREAU_BL|QT_MED_STATUS_2_U12M_BUREAU_BL|QT_MAX_STATUS_2_U12M_BUREAU_BL|QT_MIN_STATUS_2_U12M_BUREAU_BL|QT_TT_STATUS_X_U12M_BUREAU_BL|QT_MED_STATUS_X_U12M_BUREAU_BL|QT_MAX_STATUS_X_U12M_BUREAU_BL|QT_MIN_STATUS_X_U12M_BUREAU_BL|QT_TT_STATUS_5_U12M_BUREAU_BL|QT_MED_STATUS_5_U12M_BUREAU_BL|QT_MAX_STATUS_5_U12M_BUREAU_BL|QT_MIN_STATUS_5_U12M_BUREAU_BL|QT_TT_STATUS_1_U12M_BUREAU_BL|QT_MED_STATUS_1_U12M_BUREAU_BL|QT_MAX_STATUS_1_U12M_BUREAU_BL|QT_MIN_STATUS_1_U12M_BUREAU_BL|QT_TT_STATUS_C_U24M_BUREAU_BL|QT_MED_STATUS_C_U24M_BUREAU_BL|QT_MAX_STATUS_C_U24M_BUREAU_BL|QT_MIN_STATUS_C_U24M_BUREAU_BL|QT_TT_STATUS_3_U24M_BUREAU_BL|QT_MED_STATUS_3_U24M_BUREAU_BL|QT_MAX_STATUS_3_U24M_BUREAU_BL|QT_MIN_STATUS_3_U24M_BUREAU_BL|QT_TT_STATUS_0_U24M_BUREAU_BL|QT_MED_STATUS_0_U24M_BUREAU_BL|QT_MAX_STATUS_0_U24M_BUREAU_BL|QT_MIN_STATUS_0_U24M_BUREAU_BL|QT_TT_STATUS_2_U24M_BUREAU_BL|QT_MED_STATUS_2_U24M_BUREAU_BL|QT_MAX_STATUS_2_U24M_BUREAU_BL|QT_MIN_STATUS_2_U24M_BUREAU_BL|QT_TT_STATUS_X_U24M_BUREAU_BL|QT_MED_STATUS_X_U24M_BUREAU_BL|QT_MAX_STATUS_X_U24M_BUREAU_BL|QT_MIN_STATUS_X_U24M_BUREAU_BL|QT_TT_STATUS_5_U24M_BUREAU_BL|QT_MED_STATUS_5_U24M_BUREAU_BL|QT_MAX_STATUS_5_U24M_BUREAU_BL|QT_MIN_STATUS_5_U24M_BUREAU_BL|QT_TT_STATUS_1_U24M_BUREAU_BL|QT_MED_STATUS_1_U24M_BUREAU_BL|QT_MAX_STATUS_1_U24M_BUREAU_BL|QT_MIN_STATUS_1_U24M_BUREAU_BL|\n+------------+----------------------------+-----------------------------+-----------------------------+-----------------------------+----------------------------+-----------------------------+-----------------------------+-----------------------------+----------------------------+-----------------------------+-----------------------------+-----------------------------+----------------------------+-----------------------------+-----------------------------+-----------------------------+----------------------------+-----------------------------+-----------------------------+-----------------------------+----------------------------+-----------------------------+-----------------------------+-----------------------------+----------------------------+-----------------------------+-----------------------------+-----------------------------+----------------------------+-----------------------------+-----------------------------+-----------------------------+----------------------------+-----------------------------+-----------------------------+-----------------------------+----------------------------+-----------------------------+-----------------------------+-----------------------------+----------------------------+-----------------------------+-----------------------------+-----------------------------+----------------------------+-----------------------------+-----------------------------+-----------------------------+----------------------------+-----------------------------+-----------------------------+-----------------------------+----------------------------+-----------------------------+-----------------------------+-----------------------------+-----------------------------+------------------------------+------------------------------+------------------------------+-----------------------------+------------------------------+------------------------------+------------------------------+-----------------------------+------------------------------+------------------------------+------------------------------+-----------------------------+------------------------------+------------------------------+------------------------------+-----------------------------+------------------------------+------------------------------+------------------------------+-----------------------------+------------------------------+------------------------------+------------------------------+-----------------------------+------------------------------+------------------------------+------------------------------+-----------------------------+------------------------------+------------------------------+------------------------------+-----------------------------+------------------------------+------------------------------+------------------------------+-----------------------------+------------------------------+------------------------------+------------------------------+-----------------------------+------------------------------+------------------------------+------------------------------+-----------------------------+------------------------------+------------------------------+------------------------------+-----------------------------+------------------------------+------------------------------+------------------------------+-----------------------------+------------------------------+------------------------------+------------------------------+\n|5001709     |4                           |1.0                          |1                            |1                            |4                           |0.0                          |0                            |0                            |4                           |0.0                          |0                            |0                            |4                           |0.0                          |0                            |0                            |4                           |0.0                          |0                            |0                            |4                           |0.0                          |0                            |0                            |4                           |0.0                          |0                            |0                            |7                           |1.0                          |1                            |1                            |7                           |0.0                          |0                            |0                            |7                           |0.0                          |0                            |0                            |7                           |0.0                          |0                            |0                            |7                           |0.0                          |0                            |0                            |7                           |0.0                          |0                            |0                            |7                           |0.0                          |0                            |0                            |13                           |1.0                           |1                             |1                             |13                           |0.0                           |0                             |0                             |13                           |0.0                           |0                             |0                             |13                           |0.0                           |0                             |0                             |13                           |0.0                           |0                             |0                             |13                           |0.0                           |0                             |0                             |13                           |0.0                           |0                             |0                             |25                           |1.0                           |1                             |1                             |25                           |0.0                           |0                             |0                             |25                           |0.0                           |0                             |0                             |25                           |0.0                           |0                             |0                             |25                           |0.0                           |0                             |0                             |25                           |0.0                           |0                             |0                             |25                           |0.0                           |0                             |0                             |\n|5001710     |4                           |1.0                          |1                            |1                            |4                           |0.0                          |0                            |0                            |4                           |0.0                          |0                            |0                            |4                           |0.0                          |0                            |0                            |4                           |0.0                          |0                            |0                            |4                           |0.0                          |0                            |0                            |4                           |0.0                          |0                            |0                            |7                           |1.0                          |1                            |1                            |7                           |0.0                          |0                            |0                            |7                           |0.0                          |0                            |0                            |7                           |0.0                          |0                            |0                            |7                           |0.0                          |0                            |0                            |7                           |0.0                          |0                            |0                            |7                           |0.0                          |0                            |0                            |13                           |1.0                           |1                             |1                             |13                           |0.0                           |0                             |0                             |13                           |0.0                           |0                             |0                             |13                           |0.0                           |0                             |0                             |13                           |0.0                           |0                             |0                             |13                           |0.0                           |0                             |0                             |13                           |0.0                           |0                             |0                             |25                           |1.0                           |1                             |1                             |25                           |0.0                           |0                             |0                             |25                           |0.0                           |0                             |0                             |25                           |0.0                           |0                             |0                             |25                           |0.0                           |0                             |0                             |25                           |0.0                           |0                             |0                             |25                           |0.0                           |0                             |0                             |\n|5001711     |4                           |0.0                          |0                            |0                            |4                           |0.0                          |0                            |0                            |4                           |0.75                         |1                            |0                            |4                           |0.0                          |0                            |0                            |4                           |0.25                         |1                            |0                            |4                           |0.0                          |0                            |0                            |4                           |0.0                          |0                            |0                            |4                           |0.0                          |0                            |0                            |4                           |0.0                          |0                            |0                            |4                           |0.75                         |1                            |0                            |4                           |0.0                          |0                            |0                            |4                           |0.25                         |1                            |0                            |4                           |0.0                          |0                            |0                            |4                           |0.0                          |0                            |0                            |4                            |0.0                           |0                             |0                             |4                            |0.0                           |0                             |0                             |4                            |0.75                          |1                             |0                             |4                            |0.0                           |0                             |0                             |4                            |0.25                          |1                             |0                             |4                            |0.0                           |0                             |0                             |4                            |0.0                           |0                             |0                             |4                            |0.0                           |0                             |0                             |4                            |0.0                           |0                             |0                             |4                            |0.75                          |1                             |0                             |4                            |0.0                           |0                             |0                             |4                            |0.25                          |1                             |0                             |4                            |0.0                           |0                             |0                             |4                            |0.0                           |0                             |0                             |\n|5001712     |4                           |1.0                          |1                            |1                            |4                           |0.0                          |0                            |0                            |4                           |0.0                          |0                            |0                            |4                           |0.0                          |0                            |0                            |4                           |0.0                          |0                            |0                            |4                           |0.0                          |0                            |0                            |4                           |0.0                          |0                            |0                            |7                           |1.0                          |1                            |1                            |7                           |0.0                          |0                            |0                            |7                           |0.0                          |0                            |0                            |7                           |0.0                          |0                            |0                            |7                           |0.0                          |0                            |0                            |7                           |0.0                          |0                            |0                            |7                           |0.0                          |0                            |0                            |13                           |0.69                          |1                             |0                             |13                           |0.0                           |0                             |0                             |13                           |0.31                          |1                             |0                             |13                           |0.0                           |0                             |0                             |13                           |0.0                           |0                             |0                             |13                           |0.0                           |0                             |0                             |13                           |0.0                           |0                             |0                             |19                           |0.47                          |1                             |0                             |19                           |0.0                           |0                             |0                             |19                           |0.53                          |1                             |0                             |19                           |0.0                           |0                             |0                             |19                           |0.0                           |0                             |0                             |19                           |0.0                           |0                             |0                             |19                           |0.0                           |0                             |0                             |\n|5001713     |4                           |0.0                          |0                            |0                            |4                           |0.0                          |0                            |0                            |4                           |0.0                          |0                            |0                            |4                           |0.0                          |0                            |0                            |4                           |1.0                          |1                            |1                            |4                           |0.0                          |0                            |0                            |4                           |0.0                          |0                            |0                            |7                           |0.0                          |0                            |0                            |7                           |0.0                          |0                            |0                            |7                           |0.0                          |0                            |0                            |7                           |0.0                          |0                            |0                            |7                           |1.0                          |1                            |1                            |7                           |0.0                          |0                            |0                            |7                           |0.0                          |0                            |0                            |13                           |0.0                           |0                             |0                             |13                           |0.0                           |0                             |0                             |13                           |0.0                           |0                             |0                             |13                           |0.0                           |0                             |0                             |13                           |1.0                           |1                             |1                             |13                           |0.0                           |0                             |0                             |13                           |0.0                           |0                             |0                             |22                           |0.0                           |0                             |0                             |22                           |0.0                           |0                             |0                             |22                           |0.0                           |0                             |0                             |22                           |0.0                           |0                             |0                             |22                           |1.0                           |1                             |1                             |22                           |0.0                           |0                             |0                             |22                           |0.0                           |0                             |0                             |\n+------------+----------------------------+-----------------------------+-----------------------------+-----------------------------+----------------------------+-----------------------------+-----------------------------+-----------------------------+----------------------------+-----------------------------+-----------------------------+-----------------------------+----------------------------+-----------------------------+-----------------------------+-----------------------------+----------------------------+-----------------------------+-----------------------------+-----------------------------+----------------------------+-----------------------------+-----------------------------+-----------------------------+----------------------------+-----------------------------+-----------------------------+-----------------------------+----------------------------+-----------------------------+-----------------------------+-----------------------------+----------------------------+-----------------------------+-----------------------------+-----------------------------+----------------------------+-----------------------------+-----------------------------+-----------------------------+----------------------------+-----------------------------+-----------------------------+-----------------------------+----------------------------+-----------------------------+-----------------------------+-----------------------------+----------------------------+-----------------------------+-----------------------------+-----------------------------+----------------------------+-----------------------------+-----------------------------+-----------------------------+-----------------------------+------------------------------+------------------------------+------------------------------+-----------------------------+------------------------------+------------------------------+------------------------------+-----------------------------+------------------------------+------------------------------+------------------------------+-----------------------------+------------------------------+------------------------------+------------------------------+-----------------------------+------------------------------+------------------------------+------------------------------+-----------------------------+------------------------------+------------------------------+------------------------------+-----------------------------+------------------------------+------------------------------+------------------------------+-----------------------------+------------------------------+------------------------------+------------------------------+-----------------------------+------------------------------+------------------------------+------------------------------+-----------------------------+------------------------------+------------------------------+------------------------------+-----------------------------+------------------------------+------------------------------+------------------------------+-----------------------------+------------------------------+------------------------------+------------------------------+-----------------------------+------------------------------+------------------------------+------------------------------+-----------------------------+------------------------------+------------------------------+------------------------------+\nonly showing top 5 rows\n\n"
     ]
    }
   ],
   "source": [
    "from pyspark.sql.functions import col, round, sum, avg, max, min, when, count, lit\n",
    "\n",
    "colunas_agregacao_total = ['STATUS_C','STATUS_3','STATUS_0','STATUS_2','STATUS_X','STATUS_5','STATUS_1']\n",
    "\n",
    "colunas_flags = ['U3M','U6M', 'U12M', 'U24M']\n",
    "expressoes_agregacao = []\n",
    "\n",
    "for flag in colunas_flags:\n",
    "  for coluna in colunas_agregacao_total:\n",
    "    expressoes_agregacao.append(round(count(when(col(flag) == 1, col(coluna))), 2).alias(f\"QT_TT_{coluna.upper()}_{flag.upper()}_BUREAU_BL\"))\n",
    "    expressoes_agregacao.append(round(avg(when(col(flag) == 1, col(coluna)).otherwise(lit(None))), 2).alias(f\"QT_MED_{coluna.upper()}_{flag.upper()}_BUREAU_BL\"))\n",
    "    expressoes_agregacao.append(round(max(when(col(flag) == 1, col(coluna))), 2).alias(f\"QT_MAX_{coluna.upper()}_{flag.upper()}_BUREAU_BL\"))\n",
    "    expressoes_agregacao.append(round(min(when(col(flag) == 1, col(coluna))), 2).alias(f\"QT_MIN_{coluna.upper()}_{flag.upper()}_BUREAU_BL\"))\n",
    "\n",
    "\n",
    "expressoes_agregacao = tuple(expressoes_agregacao)\n",
    "\n",
    "# Aplicar as expressões de agregação\n",
    "df_temp_03 = df_temp_02.groupBy(\"SK_ID_BUREAU\").agg(*expressoes_agregacao).orderBy(\"SK_ID_BUREAU\")\n",
    "\n",
    "\n",
    "# Quantidade e nome das variáveis criadas.\n",
    "nomes_cols = df_temp_03.columns\n",
    "nomes_cols_novas = nomes_cols[1:]\n",
    "print('Quantidade Total de Variáveis Criadas:', len(df_temp_03.columns) - 1)\n",
    "print('Nomes das Variáveis Criadas:', nomes_cols_novas)\n",
    "print('')\n",
    "print('')\n",
    "\n",
    "# Quantidade de linhas do DataFrame.\n",
    "num_rows_df = df_temp_03.count()\n",
    "\n",
    "# Quantidade de colunas do DataFrame.\n",
    "num_columns_df = len(df_temp_03.columns)\n",
    "\n",
    "# Imprimir o resultado de número de linhas e colunas.\n",
    "print(f'Quantidade de linhas do DataFrame: {num_rows_df}')\n",
    "print(f'Quantidade de colunas do DataFrame: {num_columns_df}')\n",
    "print('')\n",
    "print('')\n",
    "\n",
    "# Mostrando o novo DataFrame com as variáveis criadas.\n",
    "df_temp_03.show(5, False)"
   ]
  },
  {
   "cell_type": "code",
   "execution_count": 0,
   "metadata": {
    "application/vnd.databricks.v1+cell": {
     "cellMetadata": {
      "byteLimit": 2048000,
      "rowLimit": 10000
     },
     "inputWidgets": {},
     "nuid": "f1e06921-a513-4065-b522-141aa04a5a60",
     "showTitle": false,
     "tableResultSettingsMap": {},
     "title": ""
    }
   },
   "outputs": [
    {
     "output_type": "stream",
     "name": "stdout",
     "output_type": "stream",
     "text": [
      "Quantidade Total de Variáveis Criadas: 112\nNomes das Variáveis Criadas: ['QT_TT_STATUS_C_U3M_BUREAU_BL', 'QT_MED_STATUS_C_U3M_BUREAU_BL', 'QT_MAX_STATUS_C_U3M_BUREAU_BL', 'QT_MIN_STATUS_C_U3M_BUREAU_BL', 'QT_TT_STATUS_3_U3M_BUREAU_BL', 'QT_MED_STATUS_3_U3M_BUREAU_BL', 'QT_MAX_STATUS_3_U3M_BUREAU_BL', 'QT_MIN_STATUS_3_U3M_BUREAU_BL', 'QT_TT_STATUS_0_U3M_BUREAU_BL', 'QT_MED_STATUS_0_U3M_BUREAU_BL', 'QT_MAX_STATUS_0_U3M_BUREAU_BL', 'QT_MIN_STATUS_0_U3M_BUREAU_BL', 'QT_TT_STATUS_2_U3M_BUREAU_BL', 'QT_MED_STATUS_2_U3M_BUREAU_BL', 'QT_MAX_STATUS_2_U3M_BUREAU_BL', 'QT_MIN_STATUS_2_U3M_BUREAU_BL', 'QT_TT_STATUS_X_U3M_BUREAU_BL', 'QT_MED_STATUS_X_U3M_BUREAU_BL', 'QT_MAX_STATUS_X_U3M_BUREAU_BL', 'QT_MIN_STATUS_X_U3M_BUREAU_BL', 'QT_TT_STATUS_5_U3M_BUREAU_BL', 'QT_MED_STATUS_5_U3M_BUREAU_BL', 'QT_MAX_STATUS_5_U3M_BUREAU_BL', 'QT_MIN_STATUS_5_U3M_BUREAU_BL', 'QT_TT_STATUS_1_U3M_BUREAU_BL', 'QT_MED_STATUS_1_U3M_BUREAU_BL', 'QT_MAX_STATUS_1_U3M_BUREAU_BL', 'QT_MIN_STATUS_1_U3M_BUREAU_BL', 'QT_TT_STATUS_C_U6M_BUREAU_BL', 'QT_MED_STATUS_C_U6M_BUREAU_BL', 'QT_MAX_STATUS_C_U6M_BUREAU_BL', 'QT_MIN_STATUS_C_U6M_BUREAU_BL', 'QT_TT_STATUS_3_U6M_BUREAU_BL', 'QT_MED_STATUS_3_U6M_BUREAU_BL', 'QT_MAX_STATUS_3_U6M_BUREAU_BL', 'QT_MIN_STATUS_3_U6M_BUREAU_BL', 'QT_TT_STATUS_0_U6M_BUREAU_BL', 'QT_MED_STATUS_0_U6M_BUREAU_BL', 'QT_MAX_STATUS_0_U6M_BUREAU_BL', 'QT_MIN_STATUS_0_U6M_BUREAU_BL', 'QT_TT_STATUS_2_U6M_BUREAU_BL', 'QT_MED_STATUS_2_U6M_BUREAU_BL', 'QT_MAX_STATUS_2_U6M_BUREAU_BL', 'QT_MIN_STATUS_2_U6M_BUREAU_BL', 'QT_TT_STATUS_X_U6M_BUREAU_BL', 'QT_MED_STATUS_X_U6M_BUREAU_BL', 'QT_MAX_STATUS_X_U6M_BUREAU_BL', 'QT_MIN_STATUS_X_U6M_BUREAU_BL', 'QT_TT_STATUS_5_U6M_BUREAU_BL', 'QT_MED_STATUS_5_U6M_BUREAU_BL', 'QT_MAX_STATUS_5_U6M_BUREAU_BL', 'QT_MIN_STATUS_5_U6M_BUREAU_BL', 'QT_TT_STATUS_1_U6M_BUREAU_BL', 'QT_MED_STATUS_1_U6M_BUREAU_BL', 'QT_MAX_STATUS_1_U6M_BUREAU_BL', 'QT_MIN_STATUS_1_U6M_BUREAU_BL', 'QT_TT_STATUS_C_U12M_BUREAU_BL', 'QT_MED_STATUS_C_U12M_BUREAU_BL', 'QT_MAX_STATUS_C_U12M_BUREAU_BL', 'QT_MIN_STATUS_C_U12M_BUREAU_BL', 'QT_TT_STATUS_3_U12M_BUREAU_BL', 'QT_MED_STATUS_3_U12M_BUREAU_BL', 'QT_MAX_STATUS_3_U12M_BUREAU_BL', 'QT_MIN_STATUS_3_U12M_BUREAU_BL', 'QT_TT_STATUS_0_U12M_BUREAU_BL', 'QT_MED_STATUS_0_U12M_BUREAU_BL', 'QT_MAX_STATUS_0_U12M_BUREAU_BL', 'QT_MIN_STATUS_0_U12M_BUREAU_BL', 'QT_TT_STATUS_2_U12M_BUREAU_BL', 'QT_MED_STATUS_2_U12M_BUREAU_BL', 'QT_MAX_STATUS_2_U12M_BUREAU_BL', 'QT_MIN_STATUS_2_U12M_BUREAU_BL', 'QT_TT_STATUS_X_U12M_BUREAU_BL', 'QT_MED_STATUS_X_U12M_BUREAU_BL', 'QT_MAX_STATUS_X_U12M_BUREAU_BL', 'QT_MIN_STATUS_X_U12M_BUREAU_BL', 'QT_TT_STATUS_5_U12M_BUREAU_BL', 'QT_MED_STATUS_5_U12M_BUREAU_BL', 'QT_MAX_STATUS_5_U12M_BUREAU_BL', 'QT_MIN_STATUS_5_U12M_BUREAU_BL', 'QT_TT_STATUS_1_U12M_BUREAU_BL', 'QT_MED_STATUS_1_U12M_BUREAU_BL', 'QT_MAX_STATUS_1_U12M_BUREAU_BL', 'QT_MIN_STATUS_1_U12M_BUREAU_BL', 'QT_TT_STATUS_C_U24M_BUREAU_BL', 'QT_MED_STATUS_C_U24M_BUREAU_BL', 'QT_MAX_STATUS_C_U24M_BUREAU_BL', 'QT_MIN_STATUS_C_U24M_BUREAU_BL', 'QT_TT_STATUS_3_U24M_BUREAU_BL', 'QT_MED_STATUS_3_U24M_BUREAU_BL', 'QT_MAX_STATUS_3_U24M_BUREAU_BL', 'QT_MIN_STATUS_3_U24M_BUREAU_BL', 'QT_TT_STATUS_0_U24M_BUREAU_BL', 'QT_MED_STATUS_0_U24M_BUREAU_BL', 'QT_MAX_STATUS_0_U24M_BUREAU_BL', 'QT_MIN_STATUS_0_U24M_BUREAU_BL', 'QT_TT_STATUS_2_U24M_BUREAU_BL', 'QT_MED_STATUS_2_U24M_BUREAU_BL', 'QT_MAX_STATUS_2_U24M_BUREAU_BL', 'QT_MIN_STATUS_2_U24M_BUREAU_BL', 'QT_TT_STATUS_X_U24M_BUREAU_BL', 'QT_MED_STATUS_X_U24M_BUREAU_BL', 'QT_MAX_STATUS_X_U24M_BUREAU_BL', 'QT_MIN_STATUS_X_U24M_BUREAU_BL', 'QT_TT_STATUS_5_U24M_BUREAU_BL', 'QT_MED_STATUS_5_U24M_BUREAU_BL', 'QT_MAX_STATUS_5_U24M_BUREAU_BL', 'QT_MIN_STATUS_5_U24M_BUREAU_BL', 'QT_TT_STATUS_1_U24M_BUREAU_BL', 'QT_MED_STATUS_1_U24M_BUREAU_BL', 'QT_MAX_STATUS_1_U24M_BUREAU_BL', 'QT_MIN_STATUS_1_U24M_BUREAU_BL']\n\n\nQuantidade de linhas do DataFrame: 817395\nQuantidade de colunas do DataFrame: 115\n\n\n+------------+----------------------------+-----------------------------+-----------------------------+-----------------------------+----------------------------+-----------------------------+-----------------------------+-----------------------------+----------------------------+-----------------------------+-----------------------------+-----------------------------+----------------------------+-----------------------------+-----------------------------+-----------------------------+----------------------------+-----------------------------+-----------------------------+-----------------------------+----------------------------+-----------------------------+-----------------------------+-----------------------------+----------------------------+-----------------------------+-----------------------------+-----------------------------+----------------------------+-----------------------------+-----------------------------+-----------------------------+----------------------------+-----------------------------+-----------------------------+-----------------------------+----------------------------+-----------------------------+-----------------------------+-----------------------------+----------------------------+-----------------------------+-----------------------------+-----------------------------+----------------------------+-----------------------------+-----------------------------+-----------------------------+----------------------------+-----------------------------+-----------------------------+-----------------------------+----------------------------+-----------------------------+-----------------------------+-----------------------------+-----------------------------+------------------------------+------------------------------+------------------------------+-----------------------------+------------------------------+------------------------------+------------------------------+-----------------------------+------------------------------+------------------------------+------------------------------+-----------------------------+------------------------------+------------------------------+------------------------------+-----------------------------+------------------------------+------------------------------+------------------------------+-----------------------------+------------------------------+------------------------------+------------------------------+-----------------------------+------------------------------+------------------------------+------------------------------+-----------------------------+------------------------------+------------------------------+------------------------------+-----------------------------+------------------------------+------------------------------+------------------------------+-----------------------------+------------------------------+------------------------------+------------------------------+-----------------------------+------------------------------+------------------------------+------------------------------+-----------------------------+------------------------------+------------------------------+------------------------------+-----------------------------+------------------------------+------------------------------+------------------------------+-----------------------------+------------------------------+------------------------------+------------------------------+---------+-----------+\n|SK_ID_BUREAU|QT_TT_STATUS_C_U3M_BUREAU_BL|QT_MED_STATUS_C_U3M_BUREAU_BL|QT_MAX_STATUS_C_U3M_BUREAU_BL|QT_MIN_STATUS_C_U3M_BUREAU_BL|QT_TT_STATUS_3_U3M_BUREAU_BL|QT_MED_STATUS_3_U3M_BUREAU_BL|QT_MAX_STATUS_3_U3M_BUREAU_BL|QT_MIN_STATUS_3_U3M_BUREAU_BL|QT_TT_STATUS_0_U3M_BUREAU_BL|QT_MED_STATUS_0_U3M_BUREAU_BL|QT_MAX_STATUS_0_U3M_BUREAU_BL|QT_MIN_STATUS_0_U3M_BUREAU_BL|QT_TT_STATUS_2_U3M_BUREAU_BL|QT_MED_STATUS_2_U3M_BUREAU_BL|QT_MAX_STATUS_2_U3M_BUREAU_BL|QT_MIN_STATUS_2_U3M_BUREAU_BL|QT_TT_STATUS_X_U3M_BUREAU_BL|QT_MED_STATUS_X_U3M_BUREAU_BL|QT_MAX_STATUS_X_U3M_BUREAU_BL|QT_MIN_STATUS_X_U3M_BUREAU_BL|QT_TT_STATUS_5_U3M_BUREAU_BL|QT_MED_STATUS_5_U3M_BUREAU_BL|QT_MAX_STATUS_5_U3M_BUREAU_BL|QT_MIN_STATUS_5_U3M_BUREAU_BL|QT_TT_STATUS_1_U3M_BUREAU_BL|QT_MED_STATUS_1_U3M_BUREAU_BL|QT_MAX_STATUS_1_U3M_BUREAU_BL|QT_MIN_STATUS_1_U3M_BUREAU_BL|QT_TT_STATUS_C_U6M_BUREAU_BL|QT_MED_STATUS_C_U6M_BUREAU_BL|QT_MAX_STATUS_C_U6M_BUREAU_BL|QT_MIN_STATUS_C_U6M_BUREAU_BL|QT_TT_STATUS_3_U6M_BUREAU_BL|QT_MED_STATUS_3_U6M_BUREAU_BL|QT_MAX_STATUS_3_U6M_BUREAU_BL|QT_MIN_STATUS_3_U6M_BUREAU_BL|QT_TT_STATUS_0_U6M_BUREAU_BL|QT_MED_STATUS_0_U6M_BUREAU_BL|QT_MAX_STATUS_0_U6M_BUREAU_BL|QT_MIN_STATUS_0_U6M_BUREAU_BL|QT_TT_STATUS_2_U6M_BUREAU_BL|QT_MED_STATUS_2_U6M_BUREAU_BL|QT_MAX_STATUS_2_U6M_BUREAU_BL|QT_MIN_STATUS_2_U6M_BUREAU_BL|QT_TT_STATUS_X_U6M_BUREAU_BL|QT_MED_STATUS_X_U6M_BUREAU_BL|QT_MAX_STATUS_X_U6M_BUREAU_BL|QT_MIN_STATUS_X_U6M_BUREAU_BL|QT_TT_STATUS_5_U6M_BUREAU_BL|QT_MED_STATUS_5_U6M_BUREAU_BL|QT_MAX_STATUS_5_U6M_BUREAU_BL|QT_MIN_STATUS_5_U6M_BUREAU_BL|QT_TT_STATUS_1_U6M_BUREAU_BL|QT_MED_STATUS_1_U6M_BUREAU_BL|QT_MAX_STATUS_1_U6M_BUREAU_BL|QT_MIN_STATUS_1_U6M_BUREAU_BL|QT_TT_STATUS_C_U12M_BUREAU_BL|QT_MED_STATUS_C_U12M_BUREAU_BL|QT_MAX_STATUS_C_U12M_BUREAU_BL|QT_MIN_STATUS_C_U12M_BUREAU_BL|QT_TT_STATUS_3_U12M_BUREAU_BL|QT_MED_STATUS_3_U12M_BUREAU_BL|QT_MAX_STATUS_3_U12M_BUREAU_BL|QT_MIN_STATUS_3_U12M_BUREAU_BL|QT_TT_STATUS_0_U12M_BUREAU_BL|QT_MED_STATUS_0_U12M_BUREAU_BL|QT_MAX_STATUS_0_U12M_BUREAU_BL|QT_MIN_STATUS_0_U12M_BUREAU_BL|QT_TT_STATUS_2_U12M_BUREAU_BL|QT_MED_STATUS_2_U12M_BUREAU_BL|QT_MAX_STATUS_2_U12M_BUREAU_BL|QT_MIN_STATUS_2_U12M_BUREAU_BL|QT_TT_STATUS_X_U12M_BUREAU_BL|QT_MED_STATUS_X_U12M_BUREAU_BL|QT_MAX_STATUS_X_U12M_BUREAU_BL|QT_MIN_STATUS_X_U12M_BUREAU_BL|QT_TT_STATUS_5_U12M_BUREAU_BL|QT_MED_STATUS_5_U12M_BUREAU_BL|QT_MAX_STATUS_5_U12M_BUREAU_BL|QT_MIN_STATUS_5_U12M_BUREAU_BL|QT_TT_STATUS_1_U12M_BUREAU_BL|QT_MED_STATUS_1_U12M_BUREAU_BL|QT_MAX_STATUS_1_U12M_BUREAU_BL|QT_MIN_STATUS_1_U12M_BUREAU_BL|QT_TT_STATUS_C_U24M_BUREAU_BL|QT_MED_STATUS_C_U24M_BUREAU_BL|QT_MAX_STATUS_C_U24M_BUREAU_BL|QT_MIN_STATUS_C_U24M_BUREAU_BL|QT_TT_STATUS_3_U24M_BUREAU_BL|QT_MED_STATUS_3_U24M_BUREAU_BL|QT_MAX_STATUS_3_U24M_BUREAU_BL|QT_MIN_STATUS_3_U24M_BUREAU_BL|QT_TT_STATUS_0_U24M_BUREAU_BL|QT_MED_STATUS_0_U24M_BUREAU_BL|QT_MAX_STATUS_0_U24M_BUREAU_BL|QT_MIN_STATUS_0_U24M_BUREAU_BL|QT_TT_STATUS_2_U24M_BUREAU_BL|QT_MED_STATUS_2_U24M_BUREAU_BL|QT_MAX_STATUS_2_U24M_BUREAU_BL|QT_MIN_STATUS_2_U24M_BUREAU_BL|QT_TT_STATUS_X_U24M_BUREAU_BL|QT_MED_STATUS_X_U24M_BUREAU_BL|QT_MAX_STATUS_X_U24M_BUREAU_BL|QT_MIN_STATUS_X_U24M_BUREAU_BL|QT_TT_STATUS_5_U24M_BUREAU_BL|QT_MED_STATUS_5_U24M_BUREAU_BL|QT_MAX_STATUS_5_U24M_BUREAU_BL|QT_MIN_STATUS_5_U24M_BUREAU_BL|QT_TT_STATUS_1_U24M_BUREAU_BL|QT_MED_STATUS_1_U24M_BUREAU_BL|QT_MAX_STATUS_1_U24M_BUREAU_BL|QT_MIN_STATUS_1_U24M_BUREAU_BL|PK_DATREF|PK_DAT_PROC|\n+------------+----------------------------+-----------------------------+-----------------------------+-----------------------------+----------------------------+-----------------------------+-----------------------------+-----------------------------+----------------------------+-----------------------------+-----------------------------+-----------------------------+----------------------------+-----------------------------+-----------------------------+-----------------------------+----------------------------+-----------------------------+-----------------------------+-----------------------------+----------------------------+-----------------------------+-----------------------------+-----------------------------+----------------------------+-----------------------------+-----------------------------+-----------------------------+----------------------------+-----------------------------+-----------------------------+-----------------------------+----------------------------+-----------------------------+-----------------------------+-----------------------------+----------------------------+-----------------------------+-----------------------------+-----------------------------+----------------------------+-----------------------------+-----------------------------+-----------------------------+----------------------------+-----------------------------+-----------------------------+-----------------------------+----------------------------+-----------------------------+-----------------------------+-----------------------------+----------------------------+-----------------------------+-----------------------------+-----------------------------+-----------------------------+------------------------------+------------------------------+------------------------------+-----------------------------+------------------------------+------------------------------+------------------------------+-----------------------------+------------------------------+------------------------------+------------------------------+-----------------------------+------------------------------+------------------------------+------------------------------+-----------------------------+------------------------------+------------------------------+------------------------------+-----------------------------+------------------------------+------------------------------+------------------------------+-----------------------------+------------------------------+------------------------------+------------------------------+-----------------------------+------------------------------+------------------------------+------------------------------+-----------------------------+------------------------------+------------------------------+------------------------------+-----------------------------+------------------------------+------------------------------+------------------------------+-----------------------------+------------------------------+------------------------------+------------------------------+-----------------------------+------------------------------+------------------------------+------------------------------+-----------------------------+------------------------------+------------------------------+------------------------------+-----------------------------+------------------------------+------------------------------+------------------------------+---------+-----------+\n|5001709     |4                           |1.0                          |1                            |1                            |4                           |0.0                          |0                            |0                            |4                           |0.0                          |0                            |0                            |4                           |0.0                          |0                            |0                            |4                           |0.0                          |0                            |0                            |4                           |0.0                          |0                            |0                            |4                           |0.0                          |0                            |0                            |7                           |1.0                          |1                            |1                            |7                           |0.0                          |0                            |0                            |7                           |0.0                          |0                            |0                            |7                           |0.0                          |0                            |0                            |7                           |0.0                          |0                            |0                            |7                           |0.0                          |0                            |0                            |7                           |0.0                          |0                            |0                            |13                           |1.0                           |1                             |1                             |13                           |0.0                           |0                             |0                             |13                           |0.0                           |0                             |0                             |13                           |0.0                           |0                             |0                             |13                           |0.0                           |0                             |0                             |13                           |0.0                           |0                             |0                             |13                           |0.0                           |0                             |0                             |25                           |1.0                           |1                             |1                             |25                           |0.0                           |0                             |0                             |25                           |0.0                           |0                             |0                             |25                           |0.0                           |0                             |0                             |25                           |0.0                           |0                             |0                             |25                           |0.0                           |0                             |0                             |25                           |0.0                           |0                             |0                             |20241204 |2024-12-04 |\n|5001710     |4                           |1.0                          |1                            |1                            |4                           |0.0                          |0                            |0                            |4                           |0.0                          |0                            |0                            |4                           |0.0                          |0                            |0                            |4                           |0.0                          |0                            |0                            |4                           |0.0                          |0                            |0                            |4                           |0.0                          |0                            |0                            |7                           |1.0                          |1                            |1                            |7                           |0.0                          |0                            |0                            |7                           |0.0                          |0                            |0                            |7                           |0.0                          |0                            |0                            |7                           |0.0                          |0                            |0                            |7                           |0.0                          |0                            |0                            |7                           |0.0                          |0                            |0                            |13                           |1.0                           |1                             |1                             |13                           |0.0                           |0                             |0                             |13                           |0.0                           |0                             |0                             |13                           |0.0                           |0                             |0                             |13                           |0.0                           |0                             |0                             |13                           |0.0                           |0                             |0                             |13                           |0.0                           |0                             |0                             |25                           |1.0                           |1                             |1                             |25                           |0.0                           |0                             |0                             |25                           |0.0                           |0                             |0                             |25                           |0.0                           |0                             |0                             |25                           |0.0                           |0                             |0                             |25                           |0.0                           |0                             |0                             |25                           |0.0                           |0                             |0                             |20241204 |2024-12-04 |\n|5001711     |4                           |0.0                          |0                            |0                            |4                           |0.0                          |0                            |0                            |4                           |0.75                         |1                            |0                            |4                           |0.0                          |0                            |0                            |4                           |0.25                         |1                            |0                            |4                           |0.0                          |0                            |0                            |4                           |0.0                          |0                            |0                            |4                           |0.0                          |0                            |0                            |4                           |0.0                          |0                            |0                            |4                           |0.75                         |1                            |0                            |4                           |0.0                          |0                            |0                            |4                           |0.25                         |1                            |0                            |4                           |0.0                          |0                            |0                            |4                           |0.0                          |0                            |0                            |4                            |0.0                           |0                             |0                             |4                            |0.0                           |0                             |0                             |4                            |0.75                          |1                             |0                             |4                            |0.0                           |0                             |0                             |4                            |0.25                          |1                             |0                             |4                            |0.0                           |0                             |0                             |4                            |0.0                           |0                             |0                             |4                            |0.0                           |0                             |0                             |4                            |0.0                           |0                             |0                             |4                            |0.75                          |1                             |0                             |4                            |0.0                           |0                             |0                             |4                            |0.25                          |1                             |0                             |4                            |0.0                           |0                             |0                             |4                            |0.0                           |0                             |0                             |20241204 |2024-12-04 |\n|5001712     |4                           |1.0                          |1                            |1                            |4                           |0.0                          |0                            |0                            |4                           |0.0                          |0                            |0                            |4                           |0.0                          |0                            |0                            |4                           |0.0                          |0                            |0                            |4                           |0.0                          |0                            |0                            |4                           |0.0                          |0                            |0                            |7                           |1.0                          |1                            |1                            |7                           |0.0                          |0                            |0                            |7                           |0.0                          |0                            |0                            |7                           |0.0                          |0                            |0                            |7                           |0.0                          |0                            |0                            |7                           |0.0                          |0                            |0                            |7                           |0.0                          |0                            |0                            |13                           |0.69                          |1                             |0                             |13                           |0.0                           |0                             |0                             |13                           |0.31                          |1                             |0                             |13                           |0.0                           |0                             |0                             |13                           |0.0                           |0                             |0                             |13                           |0.0                           |0                             |0                             |13                           |0.0                           |0                             |0                             |19                           |0.47                          |1                             |0                             |19                           |0.0                           |0                             |0                             |19                           |0.53                          |1                             |0                             |19                           |0.0                           |0                             |0                             |19                           |0.0                           |0                             |0                             |19                           |0.0                           |0                             |0                             |19                           |0.0                           |0                             |0                             |20241204 |2024-12-04 |\n|5001713     |4                           |0.0                          |0                            |0                            |4                           |0.0                          |0                            |0                            |4                           |0.0                          |0                            |0                            |4                           |0.0                          |0                            |0                            |4                           |1.0                          |1                            |1                            |4                           |0.0                          |0                            |0                            |4                           |0.0                          |0                            |0                            |7                           |0.0                          |0                            |0                            |7                           |0.0                          |0                            |0                            |7                           |0.0                          |0                            |0                            |7                           |0.0                          |0                            |0                            |7                           |1.0                          |1                            |1                            |7                           |0.0                          |0                            |0                            |7                           |0.0                          |0                            |0                            |13                           |0.0                           |0                             |0                             |13                           |0.0                           |0                             |0                             |13                           |0.0                           |0                             |0                             |13                           |0.0                           |0                             |0                             |13                           |1.0                           |1                             |1                             |13                           |0.0                           |0                             |0                             |13                           |0.0                           |0                             |0                             |22                           |0.0                           |0                             |0                             |22                           |0.0                           |0                             |0                             |22                           |0.0                           |0                             |0                             |22                           |0.0                           |0                             |0                             |22                           |1.0                           |1                             |1                             |22                           |0.0                           |0                             |0                             |22                           |0.0                           |0                             |0                             |20241204 |2024-12-04 |\n+------------+----------------------------+-----------------------------+-----------------------------+-----------------------------+----------------------------+-----------------------------+-----------------------------+-----------------------------+----------------------------+-----------------------------+-----------------------------+-----------------------------+----------------------------+-----------------------------+-----------------------------+-----------------------------+----------------------------+-----------------------------+-----------------------------+-----------------------------+----------------------------+-----------------------------+-----------------------------+-----------------------------+----------------------------+-----------------------------+-----------------------------+-----------------------------+----------------------------+-----------------------------+-----------------------------+-----------------------------+----------------------------+-----------------------------+-----------------------------+-----------------------------+----------------------------+-----------------------------+-----------------------------+-----------------------------+----------------------------+-----------------------------+-----------------------------+-----------------------------+----------------------------+-----------------------------+-----------------------------+-----------------------------+----------------------------+-----------------------------+-----------------------------+-----------------------------+----------------------------+-----------------------------+-----------------------------+-----------------------------+-----------------------------+------------------------------+------------------------------+------------------------------+-----------------------------+------------------------------+------------------------------+------------------------------+-----------------------------+------------------------------+------------------------------+------------------------------+-----------------------------+------------------------------+------------------------------+------------------------------+-----------------------------+------------------------------+------------------------------+------------------------------+-----------------------------+------------------------------+------------------------------+------------------------------+-----------------------------+------------------------------+------------------------------+------------------------------+-----------------------------+------------------------------+------------------------------+------------------------------+-----------------------------+------------------------------+------------------------------+------------------------------+-----------------------------+------------------------------+------------------------------+------------------------------+-----------------------------+------------------------------+------------------------------+------------------------------+-----------------------------+------------------------------+------------------------------+------------------------------+-----------------------------+------------------------------+------------------------------+------------------------------+-----------------------------+------------------------------+------------------------------+------------------------------+---------+-----------+\nonly showing top 5 rows\n\n"
     ]
    }
   ],
   "source": [
    "from pyspark.sql.functions import current_date, date_format\n",
    "\n",
    "# Adicionando as colunas de data ao DataFrame.\n",
    "df_temp_04 = df_temp_03.withColumn('PK_DATREF', date_format(current_date(), 'yyyyMMdd')) \\\n",
    "                       .withColumn('PK_DAT_PROC', current_date())\n",
    "\n",
    "\n",
    "# Quantidade e nome das variáveis criadas.\n",
    "nomes_cols = df_temp_04.columns\n",
    "nomes_cols_novas = nomes_cols[1:-2]\n",
    "print('Quantidade Total de Variáveis Criadas:', len(df_temp_04.columns) - 3)\n",
    "print('Nomes das Variáveis Criadas:', nomes_cols_novas)\n",
    "print('')\n",
    "print('')\n",
    "\n",
    "# Quantidade de linhas do DataFrame.\n",
    "num_rows_df = df_temp_04.count()\n",
    "\n",
    "# Quantidade de colunas do DataFrame.\n",
    "num_columns_df = len(df_temp_04.columns)\n",
    "\n",
    "# Imprimir o resultado de número de linhas e colunas.\n",
    "print(f'Quantidade de linhas do DataFrame: {num_rows_df}')\n",
    "print(f'Quantidade de colunas do DataFrame: {num_columns_df}')\n",
    "print('')\n",
    "print('')\n",
    "\n",
    "# Mostrando o novo DataFrame com as variáveis criadas.\n",
    "df_temp_04.show(5, truncate=False)"
   ]
  },
  {
   "cell_type": "markdown",
   "metadata": {
    "application/vnd.databricks.v1+cell": {
     "cellMetadata": {},
     "inputWidgets": {},
     "nuid": "30493a64-462b-404d-9db4-6aae56c47094",
     "showTitle": false,
     "tableResultSettingsMap": {},
     "title": ""
    }
   },
   "source": [
    "## Salvando os dados em parquet"
   ]
  },
  {
   "cell_type": "code",
   "execution_count": 0,
   "metadata": {
    "application/vnd.databricks.v1+cell": {
     "cellMetadata": {
      "byteLimit": 2048000,
      "rowLimit": 10000
     },
     "inputWidgets": {},
     "nuid": "d09adad7-c36e-42a1-900a-baa8521b44e9",
     "showTitle": false,
     "tableResultSettingsMap": {},
     "title": ""
    }
   },
   "outputs": [],
   "source": [
    "# Reparticionar para um único arquivo\n",
    "df_temp_05 = df_temp_04.repartition(1)\n",
    "\n",
    "\n",
    "df_temp_05.write.mode(\"overwrite\").partitionBy(\"PK_DATREF\").parquet('/FileStore/tables/podbank/bureau_balance')"
   ]
  }
 ],
 "metadata": {
  "application/vnd.databricks.v1+notebook": {
   "dashboards": [],
   "environmentMetadata": null,
   "language": "python",
   "notebookMetadata": {
    "pythonIndentUnit": 4
   },
   "notebookName": "bureau_balance",
   "widgets": {}
  }
 },
 "nbformat": 4,
 "nbformat_minor": 0
}
